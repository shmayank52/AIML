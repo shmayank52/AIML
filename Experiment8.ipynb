{
  "nbformat": 4,
  "nbformat_minor": 0,
  "metadata": {
    "colab": {
      "provenance": [],
      "authorship_tag": "ABX9TyPq0f3h0ZzzTuzwk9Ze/p3O",
      "include_colab_link": true
    },
    "kernelspec": {
      "name": "python3",
      "display_name": "Python 3"
    },
    "language_info": {
      "name": "python"
    }
  },
  "cells": [
    {
      "cell_type": "markdown",
      "metadata": {
        "id": "view-in-github",
        "colab_type": "text"
      },
      "source": [
        "<a href=\"https://colab.research.google.com/github/shmayank52/AIML/blob/main/Experiment8.ipynb\" target=\"_parent\"><img src=\"https://colab.research.google.com/assets/colab-badge.svg\" alt=\"Open In Colab\"/></a>"
      ]
    },
    {
      "cell_type": "code",
      "execution_count": 1,
      "metadata": {
        "id": "D6vHQiRFE3UE"
      },
      "outputs": [],
      "source": [
        "import numpy as np\n",
        "from sklearn.decomposition import PCA\n",
        "from sklearn.preprocessing import StandardScaler"
      ]
    },
    {
      "cell_type": "code",
      "source": [
        "D = np.array([[1.5, 2.6],\n",
        "              [0.5, 0.7],\n",
        "              [3.2, 2.6],\n",
        "              [1.9, 2.2],\n",
        "              [2.1, 3.1],\n",
        "              [2.6, 2.7],\n",
        "              [2, 1.6],\n",
        "              [1, 1.1],\n",
        "              [1.6, 1.6],\n",
        "              [1.2, 0.9]])"
      ],
      "metadata": {
        "id": "fP_Xn1ryF6k6"
      },
      "execution_count": 2,
      "outputs": []
    },
    {
      "cell_type": "markdown",
      "source": [
        "Standardize the data from the dataset"
      ],
      "metadata": {
        "id": "NRlb2DcBGK1M"
      }
    },
    {
      "cell_type": "code",
      "source": [
        "scaler = StandardScaler()\n",
        "D_std = scaler.fit_transform(D)"
      ],
      "metadata": {
        "id": "ej4mRB0RGT0T"
      },
      "execution_count": 3,
      "outputs": []
    },
    {
      "cell_type": "markdown",
      "source": [
        "Initializing the PCA with number of components"
      ],
      "metadata": {
        "id": "XVLO5KdCGZbK"
      }
    },
    {
      "cell_type": "code",
      "source": [
        "pca = PCA(n_components=1)"
      ],
      "metadata": {
        "id": "O_cNW7DvGc9N"
      },
      "execution_count": 4,
      "outputs": []
    },
    {
      "cell_type": "markdown",
      "source": [
        "Fit and transform the data"
      ],
      "metadata": {
        "id": "4v4B8herGgS-"
      }
    },
    {
      "cell_type": "code",
      "source": [
        "# prompt: D_pca = pca.fit_transform(D_std)\n",
        "\n",
        "D_pca = pca.fit_transform(D_std)\n",
        "D_pca"
      ],
      "metadata": {
        "colab": {
          "base_uri": "https://localhost:8080/"
        },
        "id": "NNHEKBq9Gjo1",
        "outputId": "15a01f74-4a7f-45c4-f272-4590c108045d"
      },
      "execution_count": 5,
      "outputs": [
        {
          "output_type": "execute_result",
          "data": {
            "text/plain": [
              "array([[ 0.36253665],\n",
              "       [-2.26533386],\n",
              "       [ 1.97697815],\n",
              "       [ 0.38910017],\n",
              "       [ 1.37397085],\n",
              "       [ 1.49550153],\n",
              "       [-0.04589027],\n",
              "       [-1.43719306],\n",
              "       [-0.42575886],\n",
              "       [-1.4239113 ]])"
            ]
          },
          "metadata": {},
          "execution_count": 5
        }
      ]
    },
    {
      "cell_type": "markdown",
      "source": [
        "print the original data shape"
      ],
      "metadata": {
        "id": "sdLymKoOGtLr"
      }
    },
    {
      "cell_type": "code",
      "source": [
        "print(\"Original Data Shape:\", D.shape)"
      ],
      "metadata": {
        "colab": {
          "base_uri": "https://localhost:8080/"
        },
        "id": "YMWz70eUGudh",
        "outputId": "f25f14e3-ec5c-468a-8159-accdff3ce412"
      },
      "execution_count": 6,
      "outputs": [
        {
          "output_type": "stream",
          "name": "stdout",
          "text": [
            "Original Data Shape: (10, 2)\n"
          ]
        }
      ]
    },
    {
      "cell_type": "markdown",
      "source": [
        "Print the reduced data shape"
      ],
      "metadata": {
        "id": "49OaIFWiG4VV"
      }
    },
    {
      "cell_type": "code",
      "source": [
        "print(\"Reduced Data Shape:\", D_pca.shape)"
      ],
      "metadata": {
        "colab": {
          "base_uri": "https://localhost:8080/"
        },
        "id": "rOSDfvIKG5Ki",
        "outputId": "7965dcf6-ec7e-4042-985d-ee24d34909af"
      },
      "execution_count": 7,
      "outputs": [
        {
          "output_type": "stream",
          "name": "stdout",
          "text": [
            "Reduced Data Shape: (10, 1)\n"
          ]
        }
      ]
    },
    {
      "cell_type": "markdown",
      "source": [
        "Print the reduced data"
      ],
      "metadata": {
        "id": "2fehIFT3G8GK"
      }
    },
    {
      "cell_type": "code",
      "source": [
        "print(\"Reduced Data:\\n\", D_pca)"
      ],
      "metadata": {
        "colab": {
          "base_uri": "https://localhost:8080/"
        },
        "id": "qOMvUYuPG_M8",
        "outputId": "098b5e31-2fd0-4990-838e-fc3736fadf43"
      },
      "execution_count": 8,
      "outputs": [
        {
          "output_type": "stream",
          "name": "stdout",
          "text": [
            "Reduced Data:\n",
            " [[ 0.36253665]\n",
            " [-2.26533386]\n",
            " [ 1.97697815]\n",
            " [ 0.38910017]\n",
            " [ 1.37397085]\n",
            " [ 1.49550153]\n",
            " [-0.04589027]\n",
            " [-1.43719306]\n",
            " [-0.42575886]\n",
            " [-1.4239113 ]]\n"
          ]
        }
      ]
    }
  ]
}